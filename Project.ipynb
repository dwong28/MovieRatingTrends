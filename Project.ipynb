{
 "cells": [
  {
   "cell_type": "markdown",
   "metadata": {},
   "source": [
    "<b>Imports</b>"
   ]
  },
  {
   "cell_type": "code",
   "execution_count": 121,
   "metadata": {
    "collapsed": false
   },
   "outputs": [],
   "source": [
    "#imports\n",
    "\n",
    "import csv\n",
    "import string\n",
    "from math import *\n",
    "from bs4 import BeautifulSoup\n",
    "from collections import defaultdict\n",
    "import urllib.request"
   ]
  },
  {
   "cell_type": "markdown",
   "metadata": {},
   "source": [
    "<b>Files that we will be using</b>"
   ]
  },
  {
   "cell_type": "code",
   "execution_count": 106,
   "metadata": {
    "collapsed": false
   },
   "outputs": [],
   "source": [
    "link = \"links.csv\"\n",
    "movie = \"movies.csv\"\n",
    "ratings = \"ratings.csv\"\n",
    "#Punctuation List, used to filter out Parentheses\n",
    "exclude = set(string.punctuation)\n",
    "startRange = 2005 #Starting year of interest, inclusive\n",
    "endRange = 2008 #Ending year of interest, not inclusive"
   ]
  },
  {
   "cell_type": "code",
   "execution_count": 107,
   "metadata": {
    "collapsed": false
   },
   "outputs": [],
   "source": [
    "file1 = open(link, 'r')\n",
    "file2 = open(movie, 'r')\n",
    "\n",
    "csvfile1 = csv.reader(file1, delimiter=',')\n",
    "csvfile2 = csv.reader(file2, delimiter=',')"
   ]
  },
  {
   "cell_type": "markdown",
   "metadata": {},
   "source": [
    "<b>Data Cleaning</b>\n",
    "\n",
    "We want to limit the number of movies we go through, so we clean the given data by removing movies that aired outside of our specified range.\n",
    "\n",
    "Fortunately, the year is provided for us in the title itself (lucky us), so we can use split() to splice the title into a list of strings, and then clean and format the year (always the last element). \n",
    "\n",
    "We can then compare the year to our start and end ranges, and if it is acceptable, then we add the ID to a list of accepted ID's"
   ]
  },
  {
   "cell_type": "code",
   "execution_count": 108,
   "metadata": {
    "collapsed": false
   },
   "outputs": [],
   "source": [
    "def cleanYear(yearString, punctSet):\n",
    "    newStr = ''.join(ch for ch in yearString if ch not in punctSet)\n",
    "    return newStr"
   ]
  },
  {
   "cell_type": "code",
   "execution_count": 109,
   "metadata": {
    "collapsed": false
   },
   "outputs": [
    {
     "name": "stdout",
     "output_type": "stream",
     "text": [
      "920\n"
     ]
    }
   ],
   "source": [
    "idList = {} #Dictionary to store relevant movie IDs\n",
    "next(csvfile2) #skip the first line\n",
    "for row in csvfile2:\n",
    "    titleList = row[1].split()\n",
    "    titleLen = len(titleList)\n",
    "    try: \n",
    "        year = int(cleanYear(titleList[titleLen - 1], exclude))\n",
    "        if year in range(startRange, endRange):\n",
    "            idList[row[0]] = year\n",
    "    except ValueError:\n",
    "        pass\n",
    "\n",
    "\n"
   ]
  },
  {
   "cell_type": "code",
   "execution_count": 110,
   "metadata": {
    "collapsed": false
   },
   "outputs": [
    {
     "name": "stdout",
     "output_type": "stream",
     "text": [
      "defaultdict(<class 'list'>, {2005: ['31429', '32289', '33830', '34072', '36397', '38038', '40339', '117368'], 2006: ['45074', '45517', '49013', '49647'], 2007: ['50872', '52287', '68522', '83219']})\n",
      "defaultdict(<class 'list'>, {2005: ['30793', '31422', '31698', '31700', '32017', '32031', '33004', '33495', '33615', '33639', '33669', '33681', '33815', '34332', '35015', '37729', '37739', '37857', '39292', '39307', '39435', '40629', '40851', '40962', '41566', '42009', '42734'], 2006: ['42730', '43836', '43910', '43917', '44022', '44709', '45208', '45431', '45666', '45668', '45928', '45950', '46850', '46948', '46972', '47124', '47516', '47642', '47644', '48414', '48682', '48711', '48982', '49274', '49524', '49649', '49651', '49793', '50160', '51471', '51660', '56719', '57972', '58347'], 2007: ['50149', '50601', '50923', '51698', '51834', '51939', '52694', '52975', '53121', '53460', '53464', '53993', '54276', '54290', '55250', '55732', '55768', '55872', '56152', '56176', '56775', '56915', '56945', '59590', '60526', '64990', '66320', '71318']})\n",
      "defaultdict(<class 'list'>, {2005: ['27618', '27821', '27839', '30894', '31221', '31225', '31431', '31433', '31685', '31867', '32011', '32019', '32296', '32589', '32596', '32598', '33145', '33158', '33493', '33499', '33646', '33660', '33672', '33679', '33794', '33836', '33838', '34048', '34143', '34150', '34319', '34321', '34334', '34336', '34405', '34520', '34532', '35957', '36401', '36509', '36513', '36519', '36525', '36527', '36533', '36535', '36539', '37240', '37386', '37475', '37477', '37720', '37727', '37736', '37853', '37855', '38798', '39231', '39449', '40414', '40581', '40815', '40819', '40826', '40952', '41527', '41569', '41571', '41573', '41575', '41769', '42002', '42007', '42011', '42013', '42021', '42418', '42740', '43333', '43396', '44633', '44800', '45175', '45361', '45658', '46561', '46919', '51991', '68959', '92966'], 2006: ['42728', '42732', '43419', '43556', '43558', '43684', '43871', '43904', '43919', '43928', '43930', '43932', '43936', '44004', '44193', '44613', '44729', '44731', '44815', '44840', '44972', '45028', '45062', '45106', '45186', '45442', '45447', '45499', '45501', '45512', '45672', '45720', '45722', '45726', '45730', '45732', '45880', '46322', '46335', '46530', '46967', '46970', '46974', '46976', '47099', '47122', '47382', '47518', '47610', '47629', '47810', '47952', '47999', '48043', '48161', '48319', '48326', '48412', '48416', '48520', '48593', '48596', '48780', '48879', '49130', '49205', '49220', '49272', '49278', '49286', '49772', '49824', '50003', '50651', '50792', '50954', '51094', '51314', '51705', '51884', '52037', '52356', '52891', '52967', '53550', '53578'], 2007: ['49910', '50685', '50796', '50798', '50800', '50802', '50806', '51077', '51080', '51082', '51084', '51412', '51575', '51925', '52245', '52458', '52579', '52668', '52712', '52715', '52722', '52724', '52838', '53004', '53125', '53133', '53322', '53894', '53953', '53972', '53996', '54001', '54004', '54190', '54256', '54259', '54268', '54272', '54286', '54648', '54686', '54732', '54771', '54780', '54881', '55100', '55241', '55267', '55274', '55280', '55442', '55451', '55687', '55729', '55814', '55851', '55995', '56028', '56093', '56158', '56171', '56174', '56367', '56389', '56587', '56607', '56885', '56941', '57147', '57223', '57243', '57353', '58162', '58246', '58494', '59018', '59141', '59910', '59985', '60133', '60436', '60735', '69438', '70533', '89844']})\n",
      "defaultdict(<class 'list'>, {2005: ['27788', '30898', '31420', '31424', '31427', '31696', '32029', '32584', '32587', '33085', '33154', '33162', '33164', '33437', '33644', '33821', '33834', '33880', '34153', '34162', '34164', '34271', '34323', '34326', '34437', '34523', '34528', '34530', '34534', '34536', '34538', '34540', '34542', '35836', '36276', '36517', '36529', '36537', '37380', '37382', '37384', '37731', '37733', '37741', '38061', '38294', '38886', '38992', '38994', '39183', '39234', '39381', '39414', '39419', '39427', '39444', '39446', '39715', '40148', '40278', '40342', '40583', '40614', '40723', '40732', '40887', '40959', '41285', '41425', '41617', '41716', '41736', '41997', '42004', '42015', '42018', '42053', '42197', '42632', '42721', '42723', '43460', '43589', '43652', '43744', '43853', '43908', '44058', '44204', '44761', '44937', '44974', '45183', '45382', '45525', '45635', '45648', '45664', '46231', '46347', '46572', '46772', '47049', '47254', '47465', '47725', '47830', '47976', '48825', '49115', '51498', '64997', '71374', '99857'], 2006: ['27904', '38188', '41863', '42725', '42738', '43679', '43912', '43921', '43987', '44191', '44195', '44197', '44199', '44397', '44555', '44665', '44694', '44759', '44828', '44849', '44864', '45030', '45081', '45137', '45210', '45440', '45662', '45728', '45852', '45981', '46559', '46574', '46578', '46723', '46965', '47044', '47200', '47261', '47394', '47423', '47640', '47646', '47937', '47950', '47970', '47997', '48082', '48142', '48150', '48262', '48304', '48322', '48385', '48394', '48516', '48518', '48560', '48696', '48738', '48774', '48783', '48856', '48877', '48943', '48997', '49276', '49280', '49284', '49314', '49347', '49396', '49526', '49528', '49530', '49822', '49932', '49957', '49961', '50005', '50064', '50068', '50147', '50189', '50274', '50447', '50514', '50794', '50851', '50858', '50912', '51007', '51063', '51091', '51187', '51304', '51418', '51666', '51709', '51847', '52005', '52042', '52321', '52448', '52606', '52885', '52950', '53123', '53143', '53318', '53468', '53574', '53912', '54116', '54691', '54910', '54958', '55167', '55391', '55406', '55517', '56003', '56060', '56715', '59387', '59738', '59912', '60825', '61692', '67748', '67900', '69904', '77941', '82915', '90384'], 2007: ['50151', '50440', '50442', '50445', '50804', '51086', '51255', '51540', '51662', '51903', '51927', '51931', '51935', '51937', '52241', '52281', '52283', '52328', '52375', '52456', '52460', '52462', '52604', '52644', '52717', '52973', '53000', '53002', '53127', '53129', '53131', '53189', '53435', '53447', '53921', '53956', '54274', '54281', '54331', '54503', '54510', '54513', '54736', '54738', '54745', '54775', '54785', '54787', '54796', '54962', '54978', '54997', '54999', '55020', '55052', '55080', '55094', '55116', '55118', '55205', '55209', '55232', '55245', '55247', '55255', '55257', '55261', '55269', '55272', '55276', '55278', '55282', '55284', '55286', '55288', '55290', '55363', '55408', '55444', '55498', '55577', '55721', '55765', '55805', '55820', '55946', '56001', '56145', '56156', '56165', '56169', '56274', '56286', '56333', '56336', '56339', '56511', '56633', '56757', '56782', '56788', '56801', '56805', '56908', '57274', '57401', '57637', '57843', '57910', '58078', '58191', '58287', '58301', '58303', '58306', '58332', '58351', '58418', '58492', '58622', '58783', '58881', '59000', '59107', '59143', '59362', '59404', '59418', '59429', '59604', '59709', '59721', '59995', '60020', '60147', '60471', '60482', '61011', '61048', '61467', '65181', '65631', '65642', '66427', '71500', '73286', '74731', '79203', '79863', '80736', '85332', '108192']})\n",
      "defaultdict(<class 'list'>, {2005: ['31689'], 2006: ['44788'], 2007: ['55253', '66310']})\n"
     ]
    }
   ],
   "source": [
    "#Dictionaries to store year and listof movie IDs\n",
    "#Each Content Rating gets its own dictionary\n",
    "gRating = defaultdict(list)\n",
    "pgRating = defaultdict(list)\n",
    "pg13Rating = defaultdict(list)\n",
    "rRating = defaultdict(list)\n",
    "nc17Rating = defaultdict(list)\n",
    "\n",
    "next(csvfile1)\n",
    "for row in csvfile1:\n",
    "    if row[0] in idList:\n",
    "        year = idList[row[0]] #Find the year to use as the key\n",
    "        id = row[1] #Pull the imdb movie ID \n",
    "        link = \"http://www.imdb.com/title/tt\" + id + \"/\" #Generate the URL to the movie's webpage\n",
    "        url = urllib.request.urlopen(link).read() \n",
    "        soup = BeautifulSoup(url, \"html.parser\") #Use BeautifulSoup to parse\n",
    "        rating = soup.find('meta', itemprop=\"contentRating\") #Find the content rating tag\n",
    "        try:\n",
    "            #Determine which dictionary the info goes in, and put in there\n",
    "            if rating['content'] == 'G':\n",
    "                gRating[year].append(row[0])\n",
    "            elif rating['content'] == 'PG':\n",
    "                pgRating[year].append(row[0])\n",
    "            elif rating['content'] == 'PG-13':\n",
    "                pg13Rating[year].append(row[0])\n",
    "            elif rating['content'] == 'R':\n",
    "                rRating[year].append(row[0])\n",
    "            elif rating['content'] == 'NC-17':\n",
    "                nc17Rating[year].append(row[0])\n",
    "        except TypeError:\n",
    "            pass\n",
    "\n",
    "\n",
    "\n",
    "\n",
    "\n"
   ]
  },
  {
   "cell_type": "code",
   "execution_count": 114,
   "metadata": {
    "collapsed": false
   },
   "outputs": [],
   "source": [
    "#Calculates the average rating by pulling data from the movies whose IDs correspond with the list\n",
    "#movieList\n",
    "def calcAverage(movieList):\n",
    "    file = open(ratings, 'r')\n",
    "    csvfile = csv.reader(file, delimiter=',')\n",
    "    ratingCount = 0\n",
    "    ratingSum = 0\n",
    "    next(csvfile) #skip first line\n",
    "    for row in csvfile:\n",
    "        if row[1] in movieList:\n",
    "            ratingCount += 1\n",
    "            ratingSum += float(row[2])\n",
    "    avgRating = ratingSum / ratingCount\n",
    "    file.close()\n",
    "    return avgRating\n"
   ]
  },
  {
   "cell_type": "code",
   "execution_count": 117,
   "metadata": {
    "collapsed": true
   },
   "outputs": [],
   "source": [
    "#Helper Function: Calculates the mean in a list\n",
    "def mean (x):\n",
    "    return sum(a for a in x) / len(x)\n",
    "\n",
    "#Helper Function: Calculates the square root of the sum of a - the mean\n",
    "def pearson_rooted(x):\n",
    "    return sqrt(sum([((a - mean(x)) * (a - mean(x))) for a in x]))\n",
    "\n",
    "#Defines the Pearson Relation\n",
    "def pearson(x, y):\n",
    "    num = sum((a - mean(x)) * (b - mean(y)) for a, b in zip(x, y))\n",
    "    denom = pearson_rooted(x) * pearson_rooted(y)\n",
    "    if denom != 0:\n",
    "        return float(num)/denom\n",
    "    else:\n",
    "        #Error Catching in case of zero division\n",
    "        return 'Error: Division by Zero'"
   ]
  },
  {
   "cell_type": "code",
   "execution_count": 116,
   "metadata": {
    "collapsed": false
   },
   "outputs": [
    {
     "name": "stdout",
     "output_type": "stream",
     "text": [
      "Average Ratings:\n",
      "[3.169642857142857, 3.3076923076923075, 3.6875]\n",
      "[3.375, 3.1017964071856285, 3.164]\n",
      "[3.296954314720812, 3.3239895697522814, 3.346547314578005]\n",
      "[3.4216049382716047, 3.5983050847457627, 3.483065953654189]\n",
      "[3.1666666666666665, 3.4, 3.5]\n",
      "Number of movies (2005, 2006, 2007)\n",
      "[8, 4, 4]\n",
      "[27, 34, 28]\n",
      "[90, 86, 85]\n",
      "[114, 134, 152]\n",
      "[1, 1, 2]\n"
     ]
    }
   ],
   "source": [
    "#List used to store results of average rating calculations\n",
    "avgRatingG = []\n",
    "avgRatingPG = []\n",
    "avgRatingPG13 = []\n",
    "avgRatingR = []\n",
    "avgRatingNC17 = []\n",
    "\n",
    "#List used to store results of movie count calculations\n",
    "movieCountG = []\n",
    "movieCountPG = []\n",
    "movieCountPG13 = []\n",
    "movieCountR = []\n",
    "movieCountNC17 = []\n",
    "\n",
    "#Calculate the average rating for each year in each Content Rating, append results to a list\n",
    "#Calculate the number of movies produced each year for each Content Rating, append results to list\n",
    "for i in range(startRange, endRange):\n",
    "    movieCountG.append(len(gRating[i]))\n",
    "    avgRatingG.append(calcAverage(gRating[i]))\n",
    "    movieCountPG.append(len(pgRating[i]))\n",
    "    avgRatingPG.append(calcAverage(pgRating[i]))\n",
    "    movieCountPG13.append(len(pg13Rating[i]))\n",
    "    avgRatingPG13.append(calcAverage(pg13Rating[i]))\n",
    "    movieCountR.append(len(rRating[i]))\n",
    "    avgRatingR.append(calcAverage(rRating[i]))\n",
    "    movieCountNC17.append(len(nc17Rating[i]))\n",
    "    avgRatingNC17.append(calcAverage(nc17Rating[i]))"
   ]
  },
  {
   "cell_type": "markdown",
   "metadata": {},
   "source": [
    "The next block calculates the Pearson Correlation between average ratings of movies based on Content Ratings, as well as the Pearson Correlation between movie counts of each content rating."
   ]
  },
  {
   "cell_type": "code",
   "execution_count": 129,
   "metadata": {
    "collapsed": false
   },
   "outputs": [
    {
     "name": "stdout",
     "output_type": "stream",
     "text": [
      "Calculating Pearson Relation of Average Ratings...\n",
      "Comparing G to PG, PG13, R, and NC17...\n",
      "-0.5353983357961796\n",
      "0.9506863976443302\n",
      "0.08627656687854691\n",
      "0.8822213579364225\n",
      "Comparing PG to PG13, R, and NC17...\n",
      "-0.7709517072598727\n",
      "-0.8876426897729918\n",
      "-0.8700068288055155\n",
      "Comparing PG-13 to R, and NC17...\n",
      "0.3910192547182371\n",
      "0.9847470642682293\n",
      "Comparing R to NC17...\n",
      "0.5451942635939833\n",
      "\n",
      "Calculating Pearson Relation of Movie Counts...\n",
      "Comparing G to PG, PG13, R, and NC17...\n",
      "-0.6099942813304187\n",
      "0.9819805060619655\n",
      "-0.8808122718846413\n",
      "-0.5000000000000001\n",
      "Comparing PG to PG13, R, and NC17...\n",
      "-0.4492518698068122\n",
      "0.16211349747530154\n",
      "-0.3812464258315117\n",
      "Comparing PG-13 to R, and NC17...\n",
      "-0.9544170819209595\n",
      "-0.6546536707079771\n",
      "Comparing R to NC17...\n",
      "0.8504394349231019\n"
     ]
    }
   ],
   "source": [
    "print (\"Calculating Pearson Relation of Average Ratings...\")\n",
    "print (\"Comparing G to PG, PG13, R, and NC17...\")\n",
    "print (pearson(avgRatingG, avgRatingPG))\n",
    "print (pearson(avgRatingG, avgRatingPG13))\n",
    "print (pearson(avgRatingG, avgRatingR))\n",
    "print (pearson(avgRatingG, avgRatingNC17))\n",
    "\n",
    "print (\"Comparing PG to PG13, R, and NC17...\")\n",
    "print (pearson(avgRatingPG, avgRatingPG13))\n",
    "print (pearson(avgRatingPG, avgRatingR))\n",
    "print (pearson(avgRatingPG, avgRatingNC17))\n",
    "\n",
    "print (\"Comparing PG-13 to R, and NC17...\")\n",
    "print (pearson(avgRatingPG13, avgRatingR))\n",
    "print (pearson(avgRatingPG13, avgRatingNC17))\n",
    "\n",
    "print (\"Comparing R to NC17...\")\n",
    "print (pearson(avgRatingR, avgRatingNC17))\n",
    "\n",
    "print ()\n",
    "print (\"Calculating Pearson Relation of Movie Counts...\")\n",
    "print (\"Comparing G to PG, PG13, R, and NC17...\")\n",
    "print (pearson(movieCountG, movieCountPG))\n",
    "print (pearson(movieCountG, movieCountPG13))\n",
    "print (pearson(movieCountG, movieCountR))\n",
    "print (pearson(movieCountG, movieCountNC17))\n",
    "\n",
    "print (\"Comparing PG to PG13, R, and NC17...\")\n",
    "print (pearson(movieCountPG, movieCountPG13))\n",
    "print (pearson(movieCountPG, movieCountR))\n",
    "print (pearson(movieCountPG, movieCountNC17))\n",
    "\n",
    "print (\"Comparing PG-13 to R, and NC17...\")\n",
    "print (pearson(movieCountPG13, movieCountR))\n",
    "print (pearson(movieCountPG13, movieCountNC17))\n",
    "\n",
    "print (\"Comparing R to NC17...\")\n",
    "print (pearson(movieCountR, movieCountNC17))\n"
   ]
  },
  {
   "cell_type": "code",
   "execution_count": null,
   "metadata": {
    "collapsed": true
   },
   "outputs": [],
   "source": []
  }
 ],
 "metadata": {
  "kernelspec": {
   "display_name": "Python 3",
   "language": "python",
   "name": "python3"
  },
  "language_info": {
   "codemirror_mode": {
    "name": "ipython",
    "version": 3
   },
   "file_extension": ".py",
   "mimetype": "text/x-python",
   "name": "python",
   "nbconvert_exporter": "python",
   "pygments_lexer": "ipython3",
   "version": "3.4.3"
  }
 },
 "nbformat": 4,
 "nbformat_minor": 0
}
